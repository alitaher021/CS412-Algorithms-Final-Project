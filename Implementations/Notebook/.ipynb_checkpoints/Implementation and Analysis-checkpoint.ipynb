{
 "cells": [
  {
   "cell_type": "markdown",
   "metadata": {},
   "source": [
    "# Implementation and Analysis of TSP Algorithms"
   ]
  },
  {
   "cell_type": "markdown",
   "metadata": {},
   "source": [
    "#### Dependencies"
   ]
  },
  {
   "cell_type": "code",
   "execution_count": 3,
   "metadata": {},
   "outputs": [],
   "source": [
    "import time\n",
    "import matplotlib.pyplot as plt\n",
    "import numpy as np\n",
    "from functools import partial\n",
    "import networkx as nx\n",
    "from collections import defaultdict\n",
    "import heapq\n",
    "import copy \n",
    "import random\n",
    "\n",
    "def complete_graph(n):\n",
    "    G = nx.complete_graph(n, create_using = nx.Graph)\n",
    "    for u, v, d in G.edges(data=True):\n",
    "        d['weight'] = random.randrange(1, 10)\n",
    "    return G\n",
    "        "
   ]
  },
  {
   "cell_type": "markdown",
   "metadata": {},
   "source": [
    "## Exact Algorithm"
   ]
  },
  {
   "cell_type": "markdown",
   "metadata": {},
   "source": [
    "#### Held-Karp Algorithm"
   ]
  },
  {
   "cell_type": "code",
   "execution_count": 173,
   "metadata": {},
   "outputs": [],
   "source": [
    "def held_karp(G):\n",
    "    pass"
   ]
  },
  {
   "cell_type": "markdown",
   "metadata": {},
   "source": [
    "## Approximation Algorithms"
   ]
  },
  {
   "cell_type": "markdown",
   "metadata": {},
   "source": [
    "#### Pairwise Exchange Algorithm"
   ]
  },
  {
   "cell_type": "code",
   "execution_count": 174,
   "metadata": {},
   "outputs": [],
   "source": [
    "# Calculate the change in the total weight of path\n",
    "def cost_change(cost_mat, n1, n2, n3, n4):\n",
    "    return cost_mat[n1][n3] + cost_mat[n2][n4] - cost_mat[n1][n2] - cost_mat[n3][n4]\n",
    "\n",
    "\n",
    "# Takes in an adjacency matrix and arbitrary route\n",
    "\n",
    "def two_opt(route, cost_mat):\n",
    "    best = route\n",
    "    improved = True\n",
    "    while improved:\n",
    "        improved = False\n",
    "        for i in range(1, len(route) - 2):\n",
    "            for j in range(i + 1, len(route)):\n",
    "                # Continue if the edges have shared nodes\n",
    "                if j - i == 1: continue\n",
    "                if cost_change(cost_mat, best[i - 1]-1, best[i]-1, best[j - 1]-1, best[j]-1) < 0:\n",
    "                    # Swap the edges if the path improves\n",
    "                    best[i:j] = best[j - 1:i - 1:-1]\n",
    "                    improved = True\n",
    "        route = best\n",
    "    return best\n"
   ]
  },
  {
   "cell_type": "markdown",
   "metadata": {},
   "source": [
    "#### Christofides-Serdyukov Algorithm"
   ]
  },
  {
   "cell_type": "code",
   "execution_count": 5,
   "metadata": {},
   "outputs": [],
   "source": [
    "def odd_vertices(T: nx.Graph):\n",
    "    odd_set = set()\n",
    "    for v in T:\n",
    "        if nx.degree(T, v)%2 == 1:\n",
    "            odd_set.add(v)\n",
    "    return odd_set\n",
    "\n",
    "def min_match(G):\n",
    "    matching = nx.Graph()\n",
    "    for v in G:\n",
    "        #print(v)\n",
    "        mydict = {}\n",
    "        for u in G[v]:\n",
    "            if u not in matching and v not in matching:\n",
    "                mydict[u] = G[v][u]['weight']\n",
    "            \n",
    "        if v != None and mydict:\n",
    "            x = min(mydict, key = mydict.get)\n",
    "            matching.add_node(v)\n",
    "            matching.add_node(x)\n",
    "            matching.add_weighted_edges_from([(v, x, G[v][u]['weight'])])\n",
    "    return matching \n",
    "\n",
    "\n",
    "\n",
    "def chirstoalgo(G, v):\n",
    "    min_tree = nx.minimum_spanning_tree(G, v)\n",
    "    x = odd_vertices(min_tree)\n",
    "    sub = G.subgraph(x)\n",
    "    matching = min_match(sub)\n",
    "\n",
    "    multi = nx.MultiGraph()\n",
    "    multi.add_weighted_edges_from(min_tree.edges(data='weight'))\n",
    "    multi.add_weighted_edges_from(matching.edges(data='weight'))\n",
    "    multi.add_nodes_from(min_tree.nodes())\n",
    "\n",
    "    e_circ = [u for u,x in nx.eulerian_circuit(multi, source=v)] \n",
    "    tsp_path = list(dict.fromkeys(e_circ))\n",
    "    tsp_path.append(v)\n",
    "    return tsp_path"
   ]
  },
  {
   "cell_type": "code",
   "execution_count": 94,
   "metadata": {},
   "outputs": [
    {
     "name": "stdout",
     "output_type": "stream",
     "text": [
      "( 0 1 9 ) ( 0 2 2 ) ( 0 3 4 ) ( 1 2 8 ) ( 1 3 9 ) ( 2 3 8 ) \n",
      "\n",
      "Shortest path hamiltonian cycle:  [1, 3, 0, 2, 1]\n"
     ]
    },
    {
     "data": {
      "image/png": "[encoded data removed]",
      "text/plain": [
       "<Figure size 432x288 with 1 Axes>"
      ]
     },
     "metadata": {},
     "output_type": "display_data"
    }
   ],
   "source": [
    "G = complete_graph(4)\n",
    "for u, v, d in G.edges(data=True):\n",
    "        print(\"(\",u, v, d['weight'], \")\", end=\" \")\n",
    "pos = nx.spring_layout(G)\n",
    "labels = nx.get_edge_attributes(G, 'weight')\n",
    "nx.draw_networkx_edge_labels(G, pos, edge_labels=labels)\n",
    "nx.draw(G, pos, with_labels=True)\n",
    "print(\"\\n\")\n",
    "print(\"Shortest path hamiltonian cycle: \", chirstoalgo(G, 1))"
   ]
  },
  {
   "cell_type": "markdown",
   "metadata": {},
   "source": [
    "#### Nearest Neighbors Algorithm"
   ]
  },
  {
   "cell_type": "code",
   "execution_count": 95,
   "metadata": {},
   "outputs": [],
   "source": [
    "def n_neighbors(G):\n",
    "    pass"
   ]
  },
  {
   "cell_type": "markdown",
   "metadata": {},
   "source": [
    "## Empirical Analysis"
   ]
  },
  {
   "cell_type": "code",
   "execution_count": 96,
   "metadata": {},
   "outputs": [],
   "source": [
    "def Empirical_Analysis(n, repeat):\n",
    "    \n",
    "    hk_runtimes = []\n",
    "    nn_runtimes = []\n",
    "    cs_runtimes = []\n",
    "    pe_runtimes = []\n",
    "    \n",
    "    n_values = np.array([i for i in range(n)])\n",
    "    n_ = 0\n",
    "\n",
    "    while(n_ < n):\n",
    "        cs_sum_time = 0\n",
    "        G = complete_graph(n)\n",
    "        G_ = copy.deepcopy(G)\n",
    "        r = 0\n",
    "        while (r < repeat):\n",
    "            #Recording time for christofides\n",
    "            start = time.time()\n",
    "            chirstoalgo(G, 1)\n",
    "            cs_sum_time = time.time() - start\n",
    "            G = copy.deepcopy(G_)\n",
    "            #Recording time for held-karp\n",
    "            start = time.time()\n",
    "            chirstoalgo(G, 1)\n",
    "            hk_sum_time = time.time() - start\n",
    "            G = copy.deepcopy(G_)\n",
    "            #Recording time for Nearest Neighbor\n",
    "            start = time.time()\n",
    "            chirstoalgo(G, 1)\n",
    "            nn_sum_time = time.time() - start\n",
    "            G = copy.deepcopy(G_)\n",
    "            #Recording time for Pairwise Exchange\n",
    "            start = time.time()\n",
    "            chirstoalgo(G, 1)\n",
    "            pe_sum_time = time.time() - start\n",
    "            G = copy.deepcopy(G_)\n",
    "            r += 1\n",
    "        cs_runtimes.append(cs_sum_time/repeat)\n",
    "        hk_runtimes.append(cs_sum_time/repeat)\n",
    "        nn_runtimes.append(cs_sum_time/repeat)\n",
    "        pe_runtimes.append(cs_sum_time/repeat)        \n",
    "        n_ += 1\n",
    "    \n",
    "\n",
    "    \n",
    "    fig, axs = plt.subplots(2, 2)\n",
    "    axs[0, 0].plot(n_values, hk_runtimes)\n",
    "    axs[0, 0].set_title(\"Held-Karp\")\n",
    "    axs[1, 0].plot(n_values, nn_runtimes)\n",
    "    axs[1, 0].set_title(\"Nearest Neighbor\")\n",
    "\n",
    "    axs[0, 1].plot(n_values, cs_runtimes)\n",
    "    axs[0, 1].set_title(\"Christofides\")\n",
    "    axs[1, 1].plot(n_values, pe_runtimes)\n",
    "    axs[1, 1].set_title(\"Pairwise Exchange\")\n",
    "    fig.tight_layout()\n",
    "    plt.show()\n",
    "    \n",
    "    return\n",
    "    "
   ]
  },
  {
   "cell_type": "code",
   "execution_count": 97,
   "metadata": {},
   "outputs": [
    {
     "data": {
      "image/png": "[encoded data removed]",
      "text/plain": [
       "<Figure size 432x288 with 4 Axes>"
      ]
     },
     "metadata": {
      "needs_background": "light"
     },
     "output_type": "display_data"
    }
   ],
   "source": [
    "Empirical_Analysis(10, 1)"
   ]
  },
  {
   "cell_type": "code",
   "execution_count": null,
   "metadata": {},
   "outputs": [],
   "source": []
  }
 ],
 "metadata": {
  "kernelspec": {
   "display_name": "Python 3",
   "language": "python",
   "name": "python3"
  },
  "language_info": {
   "codemirror_mode": {
    "name": "ipython",
    "version": 3
   },
   "file_extension": ".py",
   "mimetype": "text/x-python",
   "name": "python",
   "nbconvert_exporter": "python",
   "pygments_lexer": "ipython3",
   "version": "3.8.3"
  }
 },
 "nbformat": 4,
 "nbformat_minor": 4
}
